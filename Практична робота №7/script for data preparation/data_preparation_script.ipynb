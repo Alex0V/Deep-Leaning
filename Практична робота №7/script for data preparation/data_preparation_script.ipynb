{
 "cells": [
  {
   "cell_type": "code",
   "execution_count": 23,
   "metadata": {},
   "outputs": [],
   "source": [
    "import os\n",
    "import shutil"
   ]
  },
  {
   "cell_type": "code",
   "execution_count": 30,
   "metadata": {},
   "outputs": [],
   "source": [
    "# Каталог з  набором даних\n",
    "data_dir = 'dataset/'\n",
    "\n",
    "# Каталог з даними для навчання\n",
    "train_dir = 'train' \n",
    "# Каталог з даними для перевірки\n",
    "val_dir = 'val'\n",
    "# Каталог з даними для тестування\n",
    "test_dir = 'test'\n",
    "\n",
    "# Частина набору даних для тестування\n",
    "test_data_portion = 0.15 \n",
    "# Частина набору даних для перевірки\n",
    "val_data_portion = 0.15\n"
   ]
  },
  {
   "cell_type": "code",
   "execution_count": 25,
   "metadata": {},
   "outputs": [],
   "source": [
    "def create_directory(dir_name):\n",
    "    if(os.path.exists(dir_name)):\n",
    "        shutil.rmtree(dir_name)\n",
    "    os.makedirs(dir_name)\n",
    "    os.makedirs(os.path.join(dir_name, \"cats\"))\n",
    "    os.makedirs(os.path.join(dir_name, \"dogs\"))"
   ]
  },
  {
   "cell_type": "code",
   "execution_count": 26,
   "metadata": {},
   "outputs": [],
   "source": [
    "create_directory(train_dir)\n",
    "create_directory(val_dir)\n",
    "create_directory(test_dir)"
   ]
  },
  {
   "cell_type": "code",
   "execution_count": 27,
   "metadata": {},
   "outputs": [],
   "source": [
    "def copy_images(start_index, end_index, source_dir, dest_dir):\n",
    "    for i in range(start_index, end_index):\n",
    "        shutil.copy2(os.path.join(source_dir, \"cat.\" + str(i) + \".jpg\"), os.path.join(dest_dir, \"cats\"))\n",
    "        shutil.copy2(os.path.join(source_dir, \"dog.\" + str(i) + \".jpg\"), os.path.join(dest_dir, \"dogs\"))"
   ]
  },
  {
   "cell_type": "code",
   "execution_count": 28,
   "metadata": {},
   "outputs": [
    {
     "name": "stdout",
     "output_type": "stream",
     "text": [
      "8750\n",
      "10625\n"
     ]
    }
   ],
   "source": [
    "# Кількість зображень в одному класі\n",
    "nb_images = 12500\n",
    "\n",
    "start_val_data_idx = int(nb_images * (1 - val_data_portion - test_data_portion))\n",
    "start_test_data_idx = int(nb_images * (1 - test_data_portion))\n",
    "print(start_val_data_idx)\n",
    "print(start_test_data_idx)"
   ]
  },
  {
   "cell_type": "code",
   "execution_count": 31,
   "metadata": {},
   "outputs": [],
   "source": [
    "copy_images(0, start_val_data_idx, data_dir, train_dir)\n",
    "copy_images(start_val_data_idx, start_test_data_idx, data_dir, val_dir)\n",
    "copy_images(start_test_data_idx, nb_images, data_dir, test_dir)"
   ]
  }
 ],
 "metadata": {
  "kernelspec": {
   "display_name": "Python 3",
   "language": "python",
   "name": "python3"
  },
  "language_info": {
   "codemirror_mode": {
    "name": "ipython",
    "version": 3
   },
   "file_extension": ".py",
   "mimetype": "text/x-python",
   "name": "python",
   "nbconvert_exporter": "python",
   "pygments_lexer": "ipython3",
   "version": "3.11.6"
  }
 },
 "nbformat": 4,
 "nbformat_minor": 2
}
